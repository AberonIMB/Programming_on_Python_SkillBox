import sqlite3

c = sqlite3.connect("netflix.sqlite")
cursor = c.cursor()

connect = sqlite3.connect("task1.sqlite")
cursor_task1 = connect.cursor()

cursor_task1.execute('''
    CREATE TABLE IF NOT EXISTS Actors (
        actor_id INTEGER PRIMARY KEY,
        actor_name TEXT UNIQUE
    )
''')

cursor_task1.execute('''
    CREATE TABLE IF NOT EXISTS ActorMovie (
        actor_id INTEGER,
        movie_id INTEGER,
        PRIMARY KEY (actor_id, movie_id),
        FOREIGN KEY (actor_id) REFERENCES Actors (actor_id),
        FOREIGN KEY (movie_id) REFERENCES netflix_titles (movie_id)
    )
''')

cursor.execute("SELECT show_id, \"cast\" FROM netflix_titles")
data = cursor.fetchall()

for row in data:
    movie_id = row[0]
    actors_list = row[1].split(', ')
    for actor_name in actors_list:
        cursor_task1.execute("INSERT OR IGNORE INTO Actors (actor_name) VALUES (?);", (actor_name,))
        cursor_task1.execute("SELECT actor_id FROM Actors WHERE actor_name=?;", (actor_name,))
        actor_id = cursor_task1.fetchone()
        cursor_task1.execute("INSERT OR IGNORE INTO ActorMovie (actor_id, movie_id) VALUES (?, ?);", (actor_id[0], movie_id))


cursor_task1.execute("SELECT * FROM ActorMovie limit 15")
print(cursor_task1.fetchall())
connect.commit()