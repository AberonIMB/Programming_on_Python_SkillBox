import sqlite3

c = sqlite3.connect("netflix.sqlite")
cursor = c.cursor()

connect = sqlite3.connect("task1.sqlite")
cursor_task1 = connect.cursor()

cursor_task1.execute('''
    CREATE TABLE IF NOT EXISTS Actors (
        actor_id INTEGER PRIMARY KEY,
        actor_name TEXT
    )
''')

cursor_task1.execute('''
    CREATE TABLE IF NOT EXISTS Movies(
        movie_id INTEGER PRIMARY KEY,
        movie_title TEXT
    )
''')

cursor_task1.execute('''
    CREATE TABLE IF NOT EXISTS Actor_Movie (
        actor_id INTEGER,
        movie_id INTEGER,
        FOREIGN KEY (actor_id) REFERENCES Actors (actor_id),
        FOREIGN KEY (movie_id) REFERENCES Movies (movie_id),
        PRIMARY KEY (actor_id, movie_id)
    )
''')

cursor.execute("SELECT \"cast\", title FROM netflix_titles")
data = cursor.fetchall()

for cast, title in data:
    names = cast.split(', ')
    cursor_task1.execute("INSERT OR IGNORE INTO Movies (movie_title) VALUES (?);", (title,))
    movie_id = cursor_task1.lastrowid
    for name in names:
        cursor_task1.execute("INSERT OR IGNORE INTO Actors (actor_name) VALUES (?);", (name,))
        actor_id = cursor_task1.lastrowid
        cursor_task1.execute("INSERT OR IGNORE INTO Actor_Movie (actor_id, movie_id) VALUES (?, ?);", (actor_id, movie_id))

connect.commit()
c.commit()

sql_query = '''
    WITH ActorPairs AS (
    SELECT
        a1.actor_id AS actor1_id,
        a2.actor_id AS actor2_id,
        COUNT(*) AS movies_together
    FROM
        Actor_Movie a1
        JOIN Actor_Movie a2 ON a1.movie_id = a2.movie_id AND a1.actor_id < a2.actor_id
    GROUP BY
        actor1_id, actor2_id
    )
    SELECT
        actor1_id,
        actor2_id,
        movies_together
    FROM
        ActorPairs
    ORDER BY
        movies_together DESC;
'''

cursor_task1.execute(sql_query)

result = cursor_task1.fetchone()
actor1_id, actor2_id, movies_together = result
print(f"Наиболее часто встречающаяся пара актеров: ({actor1_id}, {actor2_id}) с количеством фильмов: {movies_together}")

connect.close()
c.close()